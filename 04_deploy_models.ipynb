{
 "cells": [
  {
   "cell_type": "code",
   "execution_count": 4,
   "metadata": {},
   "outputs": [],
   "source": [
    "#import libs\n",
    "import os\n",
    "import pandas as pd\n",
    "import numpy as np\n",
    "import pickle"
   ]
  },
  {
   "cell_type": "code",
   "execution_count": 5,
   "metadata": {},
   "outputs": [],
   "source": [
    "#Open models and test data\n",
    "with open('clf', 'rb') as c:\n",
    "    clf = pickle.load(c)\n",
    "    \n",
    "with open('clf2', 'rb') as c2:\n",
    "    clf2 = pickle.load(c2)\n",
    "    \n",
    "with open('x_df_test', 'rb') as x:\n",
    "    X_test = pickle.load(x)"
   ]
  },
  {
   "cell_type": "code",
   "execution_count": 12,
   "metadata": {},
   "outputs": [],
   "source": [
    "clf_probs = clf.predict_proba(X_test)\n",
    "np.savetxt(\"results1.csv\", clf_probs[:,1], delimiter=\",\")"
   ]
  },
  {
   "cell_type": "code",
   "execution_count": 13,
   "metadata": {},
   "outputs": [],
   "source": [
    "clf2_probs = clf2.predict_proba(X_test)\n",
    "np.savetxt(\"results2.csv\", clf2_probs[:,1], delimiter=\",\")"
   ]
  },
  {
   "cell_type": "code",
   "execution_count": 8,
   "metadata": {},
   "outputs": [],
   "source": [
    "#THIS WAS QUITE FUN !! THANK YOU...\n",
    "   #  #  #  #  #  #  #  #  #  #  #  #  \n",
    "#  #  #  #  #  #  #  #  #  #  #  #  #  \n",
    "# #         0  o 0  o 0   o 0      #  # \n",
    "# #          \\/\\ ! /\\ !  /\\/       #  #\n",
    "# #           \\_*_*_*_*_*_/        #  #\n",
    "# #            (Z=K=Z=K=Z)         #  #  \n",
    "# #            /~_     _~\\         #  #\n",
    "# #         /\\|  ^` |  `^ |/\\      #  #\n",
    "# #         \\/|     L     |\\/      #  #\n",
    "# #           | ((#####)) |        #  #\n",
    "# #            \\   ...   /         #  #\n",
    "# #              \\_____/           #  #\n",
    "# #            /        \\          #  #\n",
    "#  #  #  #  #  #  #  #  #  #  #  #  #\n",
    "   #  #  #  #  #  #  #  #  #  #  #  #\n"
   ]
  },
  {
   "cell_type": "code",
   "execution_count": null,
   "metadata": {},
   "outputs": [],
   "source": []
  }
 ],
 "metadata": {
  "kernelspec": {
   "display_name": "Python 3",
   "language": "python",
   "name": "python3"
  },
  "language_info": {
   "codemirror_mode": {
    "name": "ipython",
    "version": 3
   },
   "file_extension": ".py",
   "mimetype": "text/x-python",
   "name": "python",
   "nbconvert_exporter": "python",
   "pygments_lexer": "ipython3",
   "version": "3.6.6"
  },
  "varInspector": {
   "cols": {
    "lenName": 16,
    "lenType": 16,
    "lenVar": 40
   },
   "kernels_config": {
    "python": {
     "delete_cmd_postfix": "",
     "delete_cmd_prefix": "del ",
     "library": "var_list.py",
     "varRefreshCmd": "print(var_dic_list())"
    },
    "r": {
     "delete_cmd_postfix": ") ",
     "delete_cmd_prefix": "rm(",
     "library": "var_list.r",
     "varRefreshCmd": "cat(var_dic_list()) "
    }
   },
   "types_to_exclude": [
    "module",
    "function",
    "builtin_function_or_method",
    "instance",
    "_Feature"
   ],
   "window_display": false
  }
 },
 "nbformat": 4,
 "nbformat_minor": 2
}
