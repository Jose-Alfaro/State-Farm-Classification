{
 "cells": [
  {
   "cell_type": "code",
   "execution_count": 1,
   "metadata": {},
   "outputs": [
    {
     "name": "stderr",
     "output_type": "stream",
     "text": [
      "Using TensorFlow backend.\n"
     ]
    }
   ],
   "source": [
    "#Import libs\n",
    "import os\n",
    "import pandas as pd\n",
    "import numpy as np\n",
    "from sklearn.preprocessing import OneHotEncoder, LabelEncoder, StandardScaler\n",
    "from fancyimpute import IterativeImputer\n",
    "import pickle"
   ]
  },
  {
   "cell_type": "code",
   "execution_count": 2,
   "metadata": {},
   "outputs": [],
   "source": [
    "#Read csv\n",
    "raw_df = pd.read_csv('exercise_03_train.csv')"
   ]
  },
  {
   "cell_type": "code",
   "execution_count": 3,
   "metadata": {},
   "outputs": [
    {
     "data": {
      "text/html": [
       "<div>\n",
       "<style scoped>\n",
       "    .dataframe tbody tr th:only-of-type {\n",
       "        vertical-align: middle;\n",
       "    }\n",
       "\n",
       "    .dataframe tbody tr th {\n",
       "        vertical-align: top;\n",
       "    }\n",
       "\n",
       "    .dataframe thead th {\n",
       "        text-align: right;\n",
       "    }\n",
       "</style>\n",
       "<table border=\"1\" class=\"dataframe\">\n",
       "  <thead>\n",
       "    <tr style=\"text-align: right;\">\n",
       "      <th></th>\n",
       "      <th>x0</th>\n",
       "      <th>x1</th>\n",
       "      <th>x2</th>\n",
       "      <th>x3</th>\n",
       "      <th>x4</th>\n",
       "      <th>x5</th>\n",
       "      <th>x6</th>\n",
       "      <th>x7</th>\n",
       "      <th>x8</th>\n",
       "      <th>x9</th>\n",
       "      <th>...</th>\n",
       "      <th>x91</th>\n",
       "      <th>x92</th>\n",
       "      <th>x93</th>\n",
       "      <th>x94</th>\n",
       "      <th>x95</th>\n",
       "      <th>x96</th>\n",
       "      <th>x97</th>\n",
       "      <th>x98</th>\n",
       "      <th>x99</th>\n",
       "      <th>y</th>\n",
       "    </tr>\n",
       "  </thead>\n",
       "  <tbody>\n",
       "    <tr>\n",
       "      <th>0</th>\n",
       "      <td>83.812330</td>\n",
       "      <td>-0.122672</td>\n",
       "      <td>65.391785</td>\n",
       "      <td>6.323478</td>\n",
       "      <td>-18.511031</td>\n",
       "      <td>2.122648</td>\n",
       "      <td>0.319472</td>\n",
       "      <td>7.650422</td>\n",
       "      <td>7.713315</td>\n",
       "      <td>2.789856</td>\n",
       "      <td>...</td>\n",
       "      <td>5.482352</td>\n",
       "      <td>12.211997</td>\n",
       "      <td>asia</td>\n",
       "      <td>-3.201565</td>\n",
       "      <td>-9.837196</td>\n",
       "      <td>-21.092011</td>\n",
       "      <td>4.671140</td>\n",
       "      <td>0.588994</td>\n",
       "      <td>-11.417083</td>\n",
       "      <td>0</td>\n",
       "    </tr>\n",
       "    <tr>\n",
       "      <th>1</th>\n",
       "      <td>-0.445312</td>\n",
       "      <td>-0.436077</td>\n",
       "      <td>12.981759</td>\n",
       "      <td>30.716674</td>\n",
       "      <td>-34.981679</td>\n",
       "      <td>-16.712862</td>\n",
       "      <td>0.530105</td>\n",
       "      <td>8.740222</td>\n",
       "      <td>56.044533</td>\n",
       "      <td>0.075118</td>\n",
       "      <td>...</td>\n",
       "      <td>-6.083035</td>\n",
       "      <td>-5.098374</td>\n",
       "      <td>asia</td>\n",
       "      <td>5.433036</td>\n",
       "      <td>91.724841</td>\n",
       "      <td>4.305371</td>\n",
       "      <td>4.329130</td>\n",
       "      <td>0.371513</td>\n",
       "      <td>8.474528</td>\n",
       "      <td>0</td>\n",
       "    </tr>\n",
       "    <tr>\n",
       "      <th>2</th>\n",
       "      <td>82.927148</td>\n",
       "      <td>0.075277</td>\n",
       "      <td>-29.096012</td>\n",
       "      <td>-20.176841</td>\n",
       "      <td>10.109713</td>\n",
       "      <td>-45.994005</td>\n",
       "      <td>0.618132</td>\n",
       "      <td>7.757838</td>\n",
       "      <td>-69.749060</td>\n",
       "      <td>-1.561335</td>\n",
       "      <td>...</td>\n",
       "      <td>0.200787</td>\n",
       "      <td>-7.174907</td>\n",
       "      <td>asia</td>\n",
       "      <td>2.595005</td>\n",
       "      <td>-14.630603</td>\n",
       "      <td>-3.743052</td>\n",
       "      <td>-14.820376</td>\n",
       "      <td>-2.366675</td>\n",
       "      <td>2.613091</td>\n",
       "      <td>0</td>\n",
       "    </tr>\n",
       "    <tr>\n",
       "      <th>3</th>\n",
       "      <td>370.736586</td>\n",
       "      <td>-0.263338</td>\n",
       "      <td>-75.273905</td>\n",
       "      <td>-21.765844</td>\n",
       "      <td>-72.478339</td>\n",
       "      <td>-8.701108</td>\n",
       "      <td>0.332586</td>\n",
       "      <td>2.769763</td>\n",
       "      <td>-35.815423</td>\n",
       "      <td>5.230400</td>\n",
       "      <td>...</td>\n",
       "      <td>4.986738</td>\n",
       "      <td>-6.649765</td>\n",
       "      <td>asia</td>\n",
       "      <td>4.349013</td>\n",
       "      <td>-53.825281</td>\n",
       "      <td>-12.243755</td>\n",
       "      <td>-4.257462</td>\n",
       "      <td>-0.352829</td>\n",
       "      <td>-9.641206</td>\n",
       "      <td>0</td>\n",
       "    </tr>\n",
       "    <tr>\n",
       "      <th>4</th>\n",
       "      <td>33.775263</td>\n",
       "      <td>-0.270047</td>\n",
       "      <td>-40.486723</td>\n",
       "      <td>3.990431</td>\n",
       "      <td>-13.733621</td>\n",
       "      <td>-6.185321</td>\n",
       "      <td>-0.733206</td>\n",
       "      <td>-3.325673</td>\n",
       "      <td>-5.055036</td>\n",
       "      <td>-4.331587</td>\n",
       "      <td>...</td>\n",
       "      <td>3.793349</td>\n",
       "      <td>-0.865512</td>\n",
       "      <td>asia</td>\n",
       "      <td>4.432424</td>\n",
       "      <td>8.605707</td>\n",
       "      <td>-23.823016</td>\n",
       "      <td>-11.913495</td>\n",
       "      <td>-0.139055</td>\n",
       "      <td>-0.318227</td>\n",
       "      <td>0</td>\n",
       "    </tr>\n",
       "  </tbody>\n",
       "</table>\n",
       "<p>5 rows × 101 columns</p>\n",
       "</div>"
      ],
      "text/plain": [
       "           x0        x1         x2         x3         x4         x5        x6  \\\n",
       "0   83.812330 -0.122672  65.391785   6.323478 -18.511031   2.122648  0.319472   \n",
       "1   -0.445312 -0.436077  12.981759  30.716674 -34.981679 -16.712862  0.530105   \n",
       "2   82.927148  0.075277 -29.096012 -20.176841  10.109713 -45.994005  0.618132   \n",
       "3  370.736586 -0.263338 -75.273905 -21.765844 -72.478339  -8.701108  0.332586   \n",
       "4   33.775263 -0.270047 -40.486723   3.990431 -13.733621  -6.185321 -0.733206   \n",
       "\n",
       "         x7         x8        x9 ...       x91        x92   x93       x94  \\\n",
       "0  7.650422   7.713315  2.789856 ...  5.482352  12.211997  asia -3.201565   \n",
       "1  8.740222  56.044533  0.075118 ... -6.083035  -5.098374  asia  5.433036   \n",
       "2  7.757838 -69.749060 -1.561335 ...  0.200787  -7.174907  asia  2.595005   \n",
       "3  2.769763 -35.815423  5.230400 ...  4.986738  -6.649765  asia  4.349013   \n",
       "4 -3.325673  -5.055036 -4.331587 ...  3.793349  -0.865512  asia  4.432424   \n",
       "\n",
       "         x95        x96        x97       x98        x99  y  \n",
       "0  -9.837196 -21.092011   4.671140  0.588994 -11.417083  0  \n",
       "1  91.724841   4.305371   4.329130  0.371513   8.474528  0  \n",
       "2 -14.630603  -3.743052 -14.820376 -2.366675   2.613091  0  \n",
       "3 -53.825281 -12.243755  -4.257462 -0.352829  -9.641206  0  \n",
       "4   8.605707 -23.823016 -11.913495 -0.139055  -0.318227  0  \n",
       "\n",
       "[5 rows x 101 columns]"
      ]
     },
     "execution_count": 3,
     "metadata": {},
     "output_type": "execute_result"
    }
   ],
   "source": [
    "#Inspect data\n",
    "raw_df.head()\n",
    "#There are a lot of features!  EDA will be very difficult without understanding which\n",
    "#features are likely to be important. No knowledge of collection practices or data dictionaries\n",
    "#provided.  Will not attempt thorough EDA since the missing aforementioned data makes doing so\n",
    "#far less tractable."
   ]
  },
  {
   "cell_type": "code",
   "execution_count": 4,
   "metadata": {},
   "outputs": [],
   "source": [
    "#Seperate categorical variables\n",
    "category_df = raw_df.loc[:,raw_df.dtypes == np.object]"
   ]
  },
  {
   "cell_type": "code",
   "execution_count": 5,
   "metadata": {},
   "outputs": [],
   "source": [
    "#Seperate numerical variables\n",
    "num_df = raw_df.loc[:,raw_df.dtypes == np.float64]"
   ]
  },
  {
   "cell_type": "code",
   "execution_count": 6,
   "metadata": {},
   "outputs": [
    {
     "data": {
      "text/html": [
       "<div>\n",
       "<style scoped>\n",
       "    .dataframe tbody tr th:only-of-type {\n",
       "        vertical-align: middle;\n",
       "    }\n",
       "\n",
       "    .dataframe tbody tr th {\n",
       "        vertical-align: top;\n",
       "    }\n",
       "\n",
       "    .dataframe thead th {\n",
       "        text-align: right;\n",
       "    }\n",
       "</style>\n",
       "<table border=\"1\" class=\"dataframe\">\n",
       "  <thead>\n",
       "    <tr style=\"text-align: right;\">\n",
       "      <th></th>\n",
       "      <th>x34</th>\n",
       "      <th>x35</th>\n",
       "      <th>x41</th>\n",
       "      <th>x45</th>\n",
       "      <th>x68</th>\n",
       "      <th>x93</th>\n",
       "    </tr>\n",
       "  </thead>\n",
       "  <tbody>\n",
       "    <tr>\n",
       "      <th>count</th>\n",
       "      <td>39993</td>\n",
       "      <td>39991</td>\n",
       "      <td>39994</td>\n",
       "      <td>39995</td>\n",
       "      <td>39990</td>\n",
       "      <td>39994</td>\n",
       "    </tr>\n",
       "    <tr>\n",
       "      <th>unique</th>\n",
       "      <td>10</td>\n",
       "      <td>8</td>\n",
       "      <td>37824</td>\n",
       "      <td>10</td>\n",
       "      <td>12</td>\n",
       "      <td>3</td>\n",
       "    </tr>\n",
       "    <tr>\n",
       "      <th>top</th>\n",
       "      <td>volkswagon</td>\n",
       "      <td>wed</td>\n",
       "      <td>$-1073.04</td>\n",
       "      <td>0.01%</td>\n",
       "      <td>July</td>\n",
       "      <td>asia</td>\n",
       "    </tr>\n",
       "    <tr>\n",
       "      <th>freq</th>\n",
       "      <td>12610</td>\n",
       "      <td>14775</td>\n",
       "      <td>4</td>\n",
       "      <td>9640</td>\n",
       "      <td>11053</td>\n",
       "      <td>35442</td>\n",
       "    </tr>\n",
       "  </tbody>\n",
       "</table>\n",
       "</div>"
      ],
      "text/plain": [
       "               x34    x35        x41    x45    x68    x93\n",
       "count        39993  39991      39994  39995  39990  39994\n",
       "unique          10      8      37824     10     12      3\n",
       "top     volkswagon    wed  $-1073.04  0.01%   July   asia\n",
       "freq         12610  14775          4   9640  11053  35442"
      ]
     },
     "execution_count": 6,
     "metadata": {},
     "output_type": "execute_result"
    }
   ],
   "source": [
    "#summarize categorical variables\n",
    "category_df.describe(include=[np.object])"
   ]
  },
  {
   "cell_type": "code",
   "execution_count": 7,
   "metadata": {},
   "outputs": [
    {
     "name": "stderr",
     "output_type": "stream",
     "text": [
      "C:\\ProgramData\\Anaconda3\\lib\\site-packages\\ipykernel_launcher.py:2: SettingWithCopyWarning: \n",
      "A value is trying to be set on a copy of a slice from a DataFrame.\n",
      "Try using .loc[row_indexer,col_indexer] = value instead\n",
      "\n",
      "See the caveats in the documentation: http://pandas.pydata.org/pandas-docs/stable/indexing.html#indexing-view-versus-copy\n",
      "  \n",
      "C:\\ProgramData\\Anaconda3\\lib\\site-packages\\ipykernel_launcher.py:3: SettingWithCopyWarning: \n",
      "A value is trying to be set on a copy of a slice from a DataFrame.\n",
      "Try using .loc[row_indexer,col_indexer] = value instead\n",
      "\n",
      "See the caveats in the documentation: http://pandas.pydata.org/pandas-docs/stable/indexing.html#indexing-view-versus-copy\n",
      "  This is separate from the ipykernel package so we can avoid doing imports until\n"
     ]
    }
   ],
   "source": [
    "#convert categorical vars ($,%) to numeric\n",
    "category_df['x41'] = category_df['x41'].str.replace('$','').astype(float)\n",
    "category_df['x45'] = category_df['x45'].str.replace('%','').astype(float)"
   ]
  },
  {
   "cell_type": "code",
   "execution_count": 8,
   "metadata": {},
   "outputs": [
    {
     "name": "stderr",
     "output_type": "stream",
     "text": [
      "C:\\ProgramData\\Anaconda3\\lib\\site-packages\\ipykernel_launcher.py:2: SettingWithCopyWarning: \n",
      "A value is trying to be set on a copy of a slice from a DataFrame.\n",
      "Try using .loc[row_indexer,col_indexer] = value instead\n",
      "\n",
      "See the caveats in the documentation: http://pandas.pydata.org/pandas-docs/stable/indexing.html#indexing-view-versus-copy\n",
      "  \n",
      "C:\\ProgramData\\Anaconda3\\lib\\site-packages\\ipykernel_launcher.py:3: SettingWithCopyWarning: \n",
      "A value is trying to be set on a copy of a slice from a DataFrame.\n",
      "Try using .loc[row_indexer,col_indexer] = value instead\n",
      "\n",
      "See the caveats in the documentation: http://pandas.pydata.org/pandas-docs/stable/indexing.html#indexing-view-versus-copy\n",
      "  This is separate from the ipykernel package so we can avoid doing imports until\n",
      "C:\\ProgramData\\Anaconda3\\lib\\site-packages\\pandas\\core\\frame.py:3697: SettingWithCopyWarning: \n",
      "A value is trying to be set on a copy of a slice from a DataFrame\n",
      "\n",
      "See the caveats in the documentation: http://pandas.pydata.org/pandas-docs/stable/indexing.html#indexing-view-versus-copy\n",
      "  errors=errors)\n"
     ]
    }
   ],
   "source": [
    "#add converted vars to numeric df\n",
    "num_df['x41'] = category_df['x41']\n",
    "num_df['x45'] = category_df['x45']\n",
    "category_df.drop(['x41','x45'],axis = 1, inplace = True)"
   ]
  },
  {
   "cell_type": "code",
   "execution_count": 9,
   "metadata": {},
   "outputs": [
    {
     "name": "stdout",
     "output_type": "stream",
     "text": [
      "volkswagon    12610\n",
      "Toyota        10884\n",
      "bmw            7306\n",
      "Honda          5176\n",
      "tesla          2248\n",
      "chrystler      1218\n",
      "nissan          342\n",
      "ford            168\n",
      "mercades         29\n",
      "chevrolet        12\n",
      "NaN               7\n",
      "Name: x34, dtype: int64 \n",
      "\n",
      "wed          14775\n",
      "thurday      13378\n",
      "wednesday     5938\n",
      "thur          4405\n",
      "tuesday        882\n",
      "friday         521\n",
      "monday          66\n",
      "fri             26\n",
      "NaN              9\n",
      "Name: x35, dtype: int64 \n",
      "\n",
      "July       11053\n",
      "Jun         9256\n",
      "Aug         8173\n",
      "May         4801\n",
      "sept.       3514\n",
      "Apr         1640\n",
      "Oct          910\n",
      "Mar          414\n",
      "Nov          150\n",
      "Feb           47\n",
      "Dev           21\n",
      "January       11\n",
      "NaN           10\n",
      "Name: x68, dtype: int64 \n",
      "\n",
      "asia       35442\n",
      "america     3124\n",
      "euorpe      1428\n",
      "NaN            6\n",
      "Name: x93, dtype: int64 \n",
      "\n"
     ]
    }
   ],
   "source": [
    "#print counts of each categorical variable\n",
    "for col in category_df:\n",
    "    print(category_df[col].value_counts(dropna=False),'\\n')"
   ]
  },
  {
   "cell_type": "code",
   "execution_count": 10,
   "metadata": {},
   "outputs": [],
   "source": [
    "#create mask to align same categories with different names\n",
    "day_mask1 = category_df['x35'] == 'wednesday'\n",
    "day_mask2 = category_df['x35'] == 'fri'\n",
    "day_mask3 = category_df['x35']  == 'thur'"
   ]
  },
  {
   "cell_type": "code",
   "execution_count": 11,
   "metadata": {},
   "outputs": [
    {
     "name": "stderr",
     "output_type": "stream",
     "text": [
      "C:\\ProgramData\\Anaconda3\\lib\\site-packages\\pandas\\core\\generic.py:7626: SettingWithCopyWarning: \n",
      "A value is trying to be set on a copy of a slice from a DataFrame\n",
      "\n",
      "See the caveats in the documentation: http://pandas.pydata.org/pandas-docs/stable/indexing.html#indexing-view-versus-copy\n",
      "  self._update_inplace(new_data)\n",
      "C:\\ProgramData\\Anaconda3\\lib\\site-packages\\IPython\\core\\interactiveshell.py:2961: SettingWithCopyWarning: \n",
      "A value is trying to be set on a copy of a slice from a DataFrame\n",
      "\n",
      "See the caveats in the documentation: http://pandas.pydata.org/pandas-docs/stable/indexing.html#indexing-view-versus-copy\n",
      "  exec(code_obj, self.user_global_ns, self.user_ns)\n"
     ]
    }
   ],
   "source": [
    "#align names\n",
    "category_df['x35'][day_mask1] = 'wed'\n",
    "category_df['x35'][day_mask2] = 'friday'\n",
    "category_df['x35'][day_mask3] = 'thurday'"
   ]
  },
  {
   "cell_type": "code",
   "execution_count": 12,
   "metadata": {},
   "outputs": [],
   "source": [
    "#perform inductive, single imputation with numerical df\n",
    "#NOTE: Will not attempt multiple imputation\n",
    "imp = IterativeImputer()\n",
    "imp_num_df = pd.DataFrame(imp.fit_transform(num_df))\n",
    "imp_num_df.index = num_df.index\n",
    "imp_num_df.columns = num_df.columns"
   ]
  },
  {
   "cell_type": "code",
   "execution_count": 13,
   "metadata": {},
   "outputs": [],
   "source": [
    "#Save imputation fit\n",
    "with open('imp', 'wb') as i:\n",
    "    pickle.dump(imp, i, pickle.HIGHEST_PROTOCOL)"
   ]
  },
  {
   "cell_type": "code",
   "execution_count": 14,
   "metadata": {},
   "outputs": [
    {
     "name": "stderr",
     "output_type": "stream",
     "text": [
      "C:\\ProgramData\\Anaconda3\\lib\\site-packages\\pandas\\core\\generic.py:7626: SettingWithCopyWarning: \n",
      "A value is trying to be set on a copy of a slice from a DataFrame\n",
      "\n",
      "See the caveats in the documentation: http://pandas.pydata.org/pandas-docs/stable/indexing.html#indexing-view-versus-copy\n",
      "  self._update_inplace(new_data)\n",
      "C:\\ProgramData\\Anaconda3\\lib\\site-packages\\IPython\\core\\interactiveshell.py:2961: SettingWithCopyWarning: \n",
      "A value is trying to be set on a copy of a slice from a DataFrame\n",
      "\n",
      "See the caveats in the documentation: http://pandas.pydata.org/pandas-docs/stable/indexing.html#indexing-view-versus-copy\n",
      "  exec(code_obj, self.user_global_ns, self.user_ns)\n"
     ]
    }
   ],
   "source": [
    "#impute missing categorical vars as most frequent in category\n",
    "for col in category_df:\n",
    "    max_freq = category_df[col].value_counts().index[0]\n",
    "    category_df[col][pd.isna(category_df[col])] = max_freq"
   ]
  },
  {
   "cell_type": "code",
   "execution_count": 15,
   "metadata": {},
   "outputs": [],
   "source": [
    "#convert categories into nominal integers\n",
    "le_dict = {}\n",
    "label_df = pd.DataFrame()\n",
    "for col in category_df:\n",
    "    le = LabelEncoder()\n",
    "    label_df[col] = le.fit_transform(category_df[col])\n",
    "    le_dict[col] = le"
   ]
  },
  {
   "cell_type": "code",
   "execution_count": 16,
   "metadata": {},
   "outputs": [],
   "source": [
    "#save lable enc\n",
    "with open('le_dict', 'wb') as l:\n",
    "    pickle.dump(le_dict, l, pickle.HIGHEST_PROTOCOL)"
   ]
  },
  {
   "cell_type": "code",
   "execution_count": 17,
   "metadata": {},
   "outputs": [],
   "source": [
    "#create df of binary cols representing instance of each category across multipile columns\n",
    "enc = OneHotEncoder()\n",
    "onehot_df = pd.DataFrame(enc.fit_transform(label_df).toarray())\n",
    "#feature_names = enc.get_feature_names()\n",
    "#onehot_df.columns = feature_names"
   ]
  },
  {
   "cell_type": "code",
   "execution_count": 18,
   "metadata": {},
   "outputs": [],
   "source": [
    "#save one-hot-enc\n",
    "with open('enc', 'wb') as e:\n",
    "    pickle.dump(enc, e, pickle.HIGHEST_PROTOCOL)"
   ]
  },
  {
   "cell_type": "code",
   "execution_count": 19,
   "metadata": {},
   "outputs": [],
   "source": [
    "scalar = StandardScaler()\n",
    "scaled_num_df = pd.DataFrame(scalar.fit_transform(imp_num_df))"
   ]
  },
  {
   "cell_type": "code",
   "execution_count": 20,
   "metadata": {},
   "outputs": [],
   "source": [
    "#save scalar\n",
    "with open('scalar', 'wb') as s:\n",
    "    pickle.dump(scalar, s, pickle.HIGHEST_PROTOCOL)"
   ]
  },
  {
   "cell_type": "code",
   "execution_count": 21,
   "metadata": {},
   "outputs": [],
   "source": [
    "#create df of x vars from imputed df and encoded df\n",
    "x_df = pd.concat([scaled_num_df, onehot_df], axis = 1)"
   ]
  },
  {
   "cell_type": "code",
   "execution_count": 22,
   "metadata": {},
   "outputs": [],
   "source": [
    "#save x vars\n",
    "with open('x_df', 'wb') as x:\n",
    "    pickle.dump(x_df, x, pickle.HIGHEST_PROTOCOL)"
   ]
  },
  {
   "cell_type": "code",
   "execution_count": 23,
   "metadata": {},
   "outputs": [],
   "source": [
    "#sepearte dependant 'y' binary variable\n",
    "y_df = raw_df['y'].astype('int')"
   ]
  },
  {
   "cell_type": "code",
   "execution_count": 24,
   "metadata": {},
   "outputs": [],
   "source": [
    "#save y var\n",
    "with open('y_df', 'wb') as y:\n",
    "    pickle.dump(y_df, y, pickle.HIGHEST_PROTOCOL)"
   ]
  },
  {
   "cell_type": "code",
   "execution_count": null,
   "metadata": {},
   "outputs": [],
   "source": []
  }
 ],
 "metadata": {
  "kernelspec": {
   "display_name": "Python 3",
   "language": "python",
   "name": "python3"
  },
  "language_info": {
   "codemirror_mode": {
    "name": "ipython",
    "version": 3
   },
   "file_extension": ".py",
   "mimetype": "text/x-python",
   "name": "python",
   "nbconvert_exporter": "python",
   "pygments_lexer": "ipython3",
   "version": "3.6.8"
  },
  "varInspector": {
   "cols": {
    "lenName": 16,
    "lenType": 16,
    "lenVar": 40
   },
   "kernels_config": {
    "python": {
     "delete_cmd_postfix": "",
     "delete_cmd_prefix": "del ",
     "library": "var_list.py",
     "varRefreshCmd": "print(var_dic_list())"
    },
    "r": {
     "delete_cmd_postfix": ") ",
     "delete_cmd_prefix": "rm(",
     "library": "var_list.r",
     "varRefreshCmd": "cat(var_dic_list()) "
    }
   },
   "oldHeight": 635.819222,
   "position": {
    "height": "657.583px",
    "left": "420.597px",
    "right": "20px",
    "top": "44.5972px",
    "width": "800px"
   },
   "types_to_exclude": [
    "module",
    "function",
    "builtin_function_or_method",
    "instance",
    "_Feature"
   ],
   "varInspector_section_display": "block",
   "window_display": false
  }
 },
 "nbformat": 4,
 "nbformat_minor": 2
}
